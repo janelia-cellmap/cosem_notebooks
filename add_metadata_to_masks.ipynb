{
 "cells": [
  {
   "cell_type": "markdown",
   "metadata": {},
   "source": [
    "## Initial insertion of masks into the existing n5 containers\n",
    "\n",
    "Rohit Batra generated a extracellular space masks for each dataset, which needed to be integrated into the existing \\*.n5 containers. This notebook, run in mid-august of 2019, used directory operations and `zarr` to insert each mask into its n5 container and update the attributes of the mask to include the resolution metadata. \n",
    "\n",
    "Going forward, the process of creating will target the n5 containers directly, so these operations will not be needed."
   ]
  },
  {
   "cell_type": "code",
   "execution_count": 1,
   "metadata": {},
   "outputs": [],
   "source": [
    "from pathlib import Path\n",
    "from glob import glob\n",
    "import zarr\n",
    "def res_from_fname(path):\n",
    "    import re\n",
    "    p = re.compile('[0-9]x[0-9]x[0-9]')\n",
    "    fname = Path(path).parts[-1]\n",
    "    hit = p.findall(fname)\n",
    "    if len(hit) > 0:\n",
    "        res = dict(zip(('x','y','z'), map(int, hit[0].split('x'))))\n",
    "    else:\n",
    "        res = None\n",
    "    return res\n",
    "\n",
    "def name_from_fname(arg):    \n",
    "    return Path(arg).parts[-1].split('.')[0]\n",
    "\n",
    "def attribute_formatter(name, resolution):  \n",
    "    xyz = list(resolution.values())\n",
    "    resdict = dict(unit= 'nm', dimensions=xyz)\n",
    "    attrdict = dict(name=name, pixelResolution=resdict)\n",
    "    return attrdict\n",
    "\n",
    "def process_fname(fname):\n",
    "    resolution = res_from_fname(fname)\n",
    "    if resolution is None:\n",
    "        return None\n",
    "    name = name_from_fname(fname)\n",
    "    attrs = attribute_formatter(name, resolution)\n",
    "    return attrs"
   ]
  },
  {
   "cell_type": "code",
   "execution_count": 2,
   "metadata": {},
   "outputs": [],
   "source": [
    "n5s = sorted(glob('/groups/cosem/cosem/data/*/*.n5'))\n",
    "n5s = [n for n in n5s if res_from_fname(n)]"
   ]
  },
  {
   "cell_type": "code",
   "execution_count": 4,
   "metadata": {},
   "outputs": [],
   "source": [
    "for n5f in n5s:\n",
    "    attrs = process_fname(n5f)\n",
    "    zarr.open(zarr.N5Store(n5f))['/volumes/raw/'].attrs.update(attrs)"
   ]
  },
  {
   "cell_type": "code",
   "execution_count": 7,
   "metadata": {},
   "outputs": [
    {
     "data": {
      "text/plain": [
       "{'dimensions': [4, 4, 4], 'unit': 'nm'}"
      ]
     },
     "execution_count": 7,
     "metadata": {},
     "output_type": "execute_result"
    }
   ],
   "source": [
    "zarr.open(zarr.N5Store(n5s[1]))['/volumes/raw'].attrs['pixelResolution']"
   ]
  },
  {
   "cell_type": "code",
   "execution_count": 11,
   "metadata": {},
   "outputs": [
    {
     "data": {
      "text/plain": [
       "'/groups/cosem/cosem/data/Pancreas_Islets_4x4x4m/Pancreas_G36-2_4x4x4nm.n5'"
      ]
     },
     "execution_count": 11,
     "metadata": {},
     "output_type": "execute_result"
    }
   ],
   "source": [
    "import numpy as np\n",
    "from functools import reduce\n",
    "from operator import add\n",
    "from fst.io import read\n",
    "n5masks = sorted(glob('/groups/cosem/cosem/masks/*.n5'))\n",
    "n5s = sorted(glob('/groups/cosem/cosem/data/*/*.n5'))\n",
    "n5s = [n for n in n5s if res_from_fname(n)]\n",
    "n5s.pop(n5s.index('/groups/cosem/cosem/data/Mouse_NA3-3_4x4x4nm/Mouse_NA3-3_4x4x4nm.n5'))\n",
    "n5s.pop(n5s.index('/groups/cosem/cosem/data/Pancreas_Islets_4x4x4m/Pancreas_G36-2_4x4x4nm.n5'))"
   ]
  },
  {
   "cell_type": "code",
   "execution_count": 52,
   "metadata": {},
   "outputs": [],
   "source": [
    "correspondences = list(zip(n5masks, n5s))\n",
    "\n",
    "def new_resolution(raw_n5):\n",
    "    raw = read(raw_n5)['volumes/raw']\n",
    "    mask = read(raw_n5)['volumes/mask']\n",
    "    \n",
    "    raw_pixel_size = raw.attrs['pixelResolution']['dimensions']\n",
    "    ratio = np.ceil(np.array(raw.shape) / np.array(mask.shape)).astype('int')\n",
    "    new_res = map(int, ratio * np.array(list(raw_pixel_size)).tolist())\n",
    "    return dict(zip(('x','y','z'), new_res))\n"
   ]
  },
  {
   "cell_type": "code",
   "execution_count": 33,
   "metadata": {},
   "outputs": [
    {
     "data": {
      "text/plain": [
       "{'name': 'Cryo_LoadID277_Cell11_8x8x8nm_bigwarped_v17.n5',\n",
       " 'pixelResolution': {'unit': 'nm', 'dimensions': [16, 16, 16]}}"
      ]
     },
     "execution_count": 33,
     "metadata": {},
     "output_type": "execute_result"
    }
   ],
   "source": [
    "attribute_formatter(Path(n5s[0]).parts[-1], new_resolution(n5s[0]))"
   ]
  },
  {
   "cell_type": "code",
   "execution_count": 21,
   "metadata": {},
   "outputs": [
    {
     "data": {
      "text/plain": [
       "'/groups/cosem/cosem/data/COS7_Cell11_8x8x8nm/Cryo_LoadID277_Cell11_8x8x8nm_bigwarped_v17.n5'"
      ]
     },
     "execution_count": 21,
     "metadata": {},
     "output_type": "execute_result"
    }
   ],
   "source": [
    "tmp = read(n5s[0])\n",
    "n5s[0]"
   ]
  },
  {
   "cell_type": "code",
   "execution_count": 216,
   "metadata": {},
   "outputs": [],
   "source": [
    "import shutil\n",
    "def write_mask_dataset(n5_raw, n5_mask):\n",
    "    # copy mask data into raw root directory \n",
    "    mask_dest = Path(n5_raw) / 'volumes/mask'\n",
    "    mask_source = Path(n5_mask) / 'volumes/raw'\n",
    "    shutil.copytree(mask_source, mask_dest)"
   ]
  },
  {
   "cell_type": "code",
   "execution_count": null,
   "metadata": {},
   "outputs": [],
   "source": [
    "# make masks a dataset e.g. volumes/masks/cell_mask"
   ]
  },
  {
   "cell_type": "code",
   "execution_count": 220,
   "metadata": {},
   "outputs": [
    {
     "data": {
      "text/plain": [
       "[None, None, None, None, None, None, None, None, None, None, None]"
      ]
     },
     "execution_count": 220,
     "metadata": {},
     "output_type": "execute_result"
    }
   ],
   "source": [
    "[write_mask_dataset(c[1], c[0]) for c in correspondences[1:]]"
   ]
  },
  {
   "cell_type": "code",
   "execution_count": 55,
   "metadata": {},
   "outputs": [],
   "source": [
    "# update mask metadata\n",
    "def update_mask_attrs(n5_raw):\n",
    "    group = read(n5_raw)\n",
    "    name = group['/volumes/raw'].attrs['name']\n",
    "    attrs = attribute_formatter(name, new_resolution(n5_raw))\n",
    "    zarr.open(zarr.N5Store(n5_raw))['/volumes/mask'].attrs.update(attrs)\n",
    "    return attrs\n",
    "\n"
   ]
  },
  {
   "cell_type": "code",
   "execution_count": 56,
   "metadata": {},
   "outputs": [
    {
     "data": {
      "text/plain": [
       "[{'name': 'Cryo_LoadID277_Cell11_8x8x8nm_bigwarped_v17',\n",
       "  'pixelResolution': {'unit': 'nm', 'dimensions': [16, 16, 16]}},\n",
       " {'name': 'Chlamydomonas_4x4x4nm',\n",
       "  'pixelResolution': {'unit': 'nm', 'dimensions': [8, 8, 8]}},\n",
       " {'name': 'HeLa_Cell1_D05-10_8x8x8nm',\n",
       "  'pixelResolution': {'unit': 'nm', 'dimensions': [16, 16, 16]}},\n",
       " {'name': 'HeLa_Cell21_8x8x8nm',\n",
       "  'pixelResolution': {'unit': 'nm', 'dimensions': [16, 16, 16]}},\n",
       " {'name': 'HeLa_Cell25_flat_8x8x8nm',\n",
       "  'pixelResolution': {'unit': 'nm', 'dimensions': [16, 16, 16]}},\n",
       " {'name': 'Aubrey_17-7_17_Cell2_4x4x4nm',\n",
       "  'pixelResolution': {'unit': 'nm', 'dimensions': [8, 8, 8]}},\n",
       " {'name': 'Aubrey_17-7_17_Cell3_4x4x4nm',\n",
       "  'pixelResolution': {'unit': 'nm', 'dimensions': [8, 8, 8]}},\n",
       " {'name': 'Jurkat_Cell1_FS96-Area1_4x4x4nm',\n",
       "  'pixelResolution': {'unit': 'nm', 'dimensions': [8, 8, 8]}},\n",
       " {'name': 'Cryo_FS80_Cell2_4x4x4nm',\n",
       "  'pixelResolution': {'unit': 'nm', 'dimensions': [8, 8, 8]}},\n",
       " {'name': 'Cryo_20171009_WT45_Cell2_4x4x4nm',\n",
       "  'pixelResolution': {'unit': 'nm', 'dimensions': [16, 16, 16]}},\n",
       " {'name': 'Cryo_LoadID252_Cell4_8x8x8nm',\n",
       "  'pixelResolution': {'unit': 'nm', 'dimensions': [16, 16, 16]}},\n",
       " {'name': 'Cryo_LoadID253_Cell6_8x8x8nm',\n",
       "  'pixelResolution': {'unit': 'nm', 'dimensions': [16, 16, 16]}}]"
      ]
     },
     "execution_count": 56,
     "metadata": {},
     "output_type": "execute_result"
    }
   ],
   "source": [
    "[update_mask_attrs(n5) for n5 in n5s]"
   ]
  }
 ],
 "metadata": {
  "kernelspec": {
   "display_name": "Python 3",
   "language": "python",
   "name": "python3"
  },
  "language_info": {
   "codemirror_mode": {
    "name": "ipython",
    "version": 3
   },
   "file_extension": ".py",
   "mimetype": "text/x-python",
   "name": "python",
   "nbconvert_exporter": "python",
   "pygments_lexer": "ipython3",
   "version": "3.7.4"
  }
 },
 "nbformat": 4,
 "nbformat_minor": 4
}
