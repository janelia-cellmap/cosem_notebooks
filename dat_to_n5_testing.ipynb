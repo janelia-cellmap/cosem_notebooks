{
 "cells": [
  {
   "cell_type": "code",
   "execution_count": 4,
   "metadata": {},
   "outputs": [
    {
     "name": "stdout",
     "output_type": "stream",
     "text": [
      "The autoreload extension is already loaded. To reload it, use:\n",
      "  %reload_ext autoreload\n"
     ]
    }
   ],
   "source": [
    "%load_ext autoreload\n",
    "%autoreload 2"
   ]
  },
  {
   "cell_type": "code",
   "execution_count": 1,
   "metadata": {},
   "outputs": [],
   "source": [
    "from fst.scripts.python.dat_to_n5 import dat_to_n5\n",
    "from glob import glob"
   ]
  },
  {
   "cell_type": "code",
   "execution_count": 2,
   "metadata": {},
   "outputs": [
    {
     "name": "stderr",
     "output_type": "stream",
     "text": [
      "2020-03-06 18:26:49,824 - dat_to_n5.py - INFO - Observe progress at http://10.36.110.12:8787/status\n",
      "2020-03-06 18:26:49,838 - dat_to_n5.py - INFO - Preparing 30265 images...\n",
      "2020-03-06 18:29:10,968 - dat_to_n5.py - INFO - Using previously calculated minimum and maximum values of the input data...\n",
      "2020-03-06 18:29:21,404 - dat_to_n5.py - INFO - Assembled dataset with shape (30265, 2, 1000, 10000)\n",
      "2020-03-06 18:29:21,445 - dat_to_n5.py - INFO - Initializing storage for multiple pyramid levels....\n",
      "2020-03-06 18:29:21,446 - dat_to_n5.py - INFO - Initializing /groups/cosem/cosem/data/LoadID359_Cell81/LoadID359_Cell81.n5/volumes/raw/ch0...\n"
     ]
    },
    {
     "name": "stdout",
     "output_type": "stream",
     "text": [
      "[########################################] | 100% Completed | 14min 38.9s\n"
     ]
    },
    {
     "name": "stderr",
     "output_type": "stream",
     "text": [
      "2020-03-06 18:44:03,214 - dat_to_n5.py - INFO - Initializing /groups/cosem/cosem/data/LoadID359_Cell81/LoadID359_Cell81.n5/volumes/raw/ch1...\n"
     ]
    },
    {
     "name": "stdout",
     "output_type": "stream",
     "text": [
      "[########################################] | 100% Completed | 17min 24.4s\n"
     ]
    },
    {
     "name": "stderr",
     "output_type": "stream",
     "text": [
      "2020-03-06 19:01:31,331 - dat_to_n5.py - INFO - Begin saving data...\n",
      "2020-03-06 19:01:38,600 - dat_to_n5.py - INFO - Begin saving planes 0:10000\n",
      "2020-03-06 19:09:40,404 - dat_to_n5.py - INFO - Begin saving planes 10000:20000\n",
      "tornado.application - ERROR - Exception in callback functools.partial(<bound method IOLoop._discard_future_result of <zmq.eventloop.ioloop.ZMQIOLoop object at 0x2b8c40fba310>>, <Task finished coro=<SpecCluster._correct_state_internal() done, defined at /groups/scicompsoft/home/bennettd/miniconda3/lib/python3.7/site-packages/distributed/deploy/spec.py:300> exception=OSError(\"Timed out trying to connect to 'tcp://10.36.110.12:46242' after 5 s: Timed out trying to connect to 'tcp://10.36.110.12:46242' after 5 s: connect() didn't finish in time\")>)\n",
      "Traceback (most recent call last):\n",
      "  File \"/groups/scicompsoft/home/bennettd/miniconda3/lib/python3.7/site-packages/distributed/comm/core.py\", line 218, in connect\n",
      "    _raise(error)\n",
      "  File \"/groups/scicompsoft/home/bennettd/miniconda3/lib/python3.7/site-packages/distributed/comm/core.py\", line 203, in _raise\n",
      "    raise IOError(msg)\n",
      "OSError: Timed out trying to connect to 'tcp://10.36.110.12:46242' after 5 s: connect() didn't finish in time\n",
      "\n",
      "During handling of the above exception, another exception occurred:\n",
      "\n",
      "Traceback (most recent call last):\n",
      "  File \"/groups/scicompsoft/home/bennettd/miniconda3/lib/python3.7/site-packages/tornado/ioloop.py\", line 743, in _run_callback\n",
      "    ret = callback()\n",
      "  File \"/groups/scicompsoft/home/bennettd/miniconda3/lib/python3.7/site-packages/tornado/ioloop.py\", line 767, in _discard_future_result\n",
      "    future.result()\n",
      "  File \"/groups/scicompsoft/home/bennettd/miniconda3/lib/python3.7/site-packages/distributed/deploy/spec.py\", line 308, in _correct_state_internal\n",
      "    await self.scheduler_comm.retire_workers(workers=list(to_close))\n",
      "  File \"/groups/scicompsoft/home/bennettd/miniconda3/lib/python3.7/site-packages/distributed/core.py\", line 684, in send_recv_from_rpc\n",
      "    comm = await self.live_comm()\n",
      "  File \"/groups/scicompsoft/home/bennettd/miniconda3/lib/python3.7/site-packages/distributed/core.py\", line 646, in live_comm\n",
      "    connection_args=self.connection_args,\n",
      "  File \"/groups/scicompsoft/home/bennettd/miniconda3/lib/python3.7/site-packages/distributed/comm/core.py\", line 227, in connect\n",
      "    _raise(error)\n",
      "  File \"/groups/scicompsoft/home/bennettd/miniconda3/lib/python3.7/site-packages/distributed/comm/core.py\", line 203, in _raise\n",
      "    raise IOError(msg)\n",
      "OSError: Timed out trying to connect to 'tcp://10.36.110.12:46242' after 5 s: Timed out trying to connect to 'tcp://10.36.110.12:46242' after 5 s: connect() didn't finish in time\n",
      "tornado.application - ERROR - Exception in callback functools.partial(<bound method IOLoop._discard_future_result of <zmq.eventloop.ioloop.ZMQIOLoop object at 0x2b8c40fba310>>, <Task finished coro=<SpecCluster._correct_state_internal() done, defined at /groups/scicompsoft/home/bennettd/miniconda3/lib/python3.7/site-packages/distributed/deploy/spec.py:300> exception=OSError(\"Timed out trying to connect to 'tcp://10.36.110.12:46242' after 5 s: Timed out trying to connect to 'tcp://10.36.110.12:46242' after 5 s: connect() didn't finish in time\")>)\n",
      "Traceback (most recent call last):\n",
      "  File \"/groups/scicompsoft/home/bennettd/miniconda3/lib/python3.7/site-packages/distributed/comm/core.py\", line 218, in connect\n",
      "    _raise(error)\n",
      "  File \"/groups/scicompsoft/home/bennettd/miniconda3/lib/python3.7/site-packages/distributed/comm/core.py\", line 203, in _raise\n",
      "    raise IOError(msg)\n",
      "OSError: Timed out trying to connect to 'tcp://10.36.110.12:46242' after 5 s: connect() didn't finish in time\n",
      "\n",
      "During handling of the above exception, another exception occurred:\n",
      "\n",
      "Traceback (most recent call last):\n",
      "  File \"/groups/scicompsoft/home/bennettd/miniconda3/lib/python3.7/site-packages/tornado/ioloop.py\", line 743, in _run_callback\n",
      "    ret = callback()\n",
      "  File \"/groups/scicompsoft/home/bennettd/miniconda3/lib/python3.7/site-packages/tornado/ioloop.py\", line 767, in _discard_future_result\n",
      "    future.result()\n",
      "  File \"/groups/scicompsoft/home/bennettd/miniconda3/lib/python3.7/site-packages/tornado/ioloop.py\", line 743, in _run_callback\n",
      "    ret = callback()\n",
      "  File \"/groups/scicompsoft/home/bennettd/miniconda3/lib/python3.7/site-packages/tornado/ioloop.py\", line 767, in _discard_future_result\n",
      "    future.result()\n",
      "  File \"/groups/scicompsoft/home/bennettd/miniconda3/lib/python3.7/site-packages/distributed/deploy/spec.py\", line 308, in _correct_state_internal\n",
      "    await self.scheduler_comm.retire_workers(workers=list(to_close))\n",
      "  File \"/groups/scicompsoft/home/bennettd/miniconda3/lib/python3.7/site-packages/distributed/core.py\", line 684, in send_recv_from_rpc\n",
      "    comm = await self.live_comm()\n",
      "  File \"/groups/scicompsoft/home/bennettd/miniconda3/lib/python3.7/site-packages/distributed/core.py\", line 646, in live_comm\n",
      "    connection_args=self.connection_args,\n",
      "  File \"/groups/scicompsoft/home/bennettd/miniconda3/lib/python3.7/site-packages/distributed/comm/core.py\", line 227, in connect\n",
      "    _raise(error)\n",
      "  File \"/groups/scicompsoft/home/bennettd/miniconda3/lib/python3.7/site-packages/distributed/comm/core.py\", line 203, in _raise\n",
      "    raise IOError(msg)\n",
      "OSError: Timed out trying to connect to 'tcp://10.36.110.12:46242' after 5 s: Timed out trying to connect to 'tcp://10.36.110.12:46242' after 5 s: connect() didn't finish in time\n",
      "2020-03-06 19:15:04,555 - dat_to_n5.py - INFO - Begin saving planes 20000:30000\n",
      "tornado.application - ERROR - Exception in callback functools.partial(<bound method IOLoop._discard_future_result of <zmq.eventloop.ioloop.ZMQIOLoop object at 0x2b8c40fba310>>, <Task finished coro=<SpecCluster._correct_state_internal() done, defined at /groups/scicompsoft/home/bennettd/miniconda3/lib/python3.7/site-packages/distributed/deploy/spec.py:300> exception=OSError(\"Timed out trying to connect to 'tcp://10.36.110.12:46242' after 5 s: Timed out trying to connect to 'tcp://10.36.110.12:46242' after 5 s: connect() didn't finish in time\")>)\n",
      "Traceback (most recent call last):\n",
      "  File \"/groups/scicompsoft/home/bennettd/miniconda3/lib/python3.7/site-packages/distributed/comm/core.py\", line 218, in connect\n",
      "    _raise(error)\n",
      "  File \"/groups/scicompsoft/home/bennettd/miniconda3/lib/python3.7/site-packages/distributed/comm/core.py\", line 203, in _raise\n",
      "    raise IOError(msg)\n",
      "OSError: Timed out trying to connect to 'tcp://10.36.110.12:46242' after 5 s: connect() didn't finish in time\n",
      "\n",
      "During handling of the above exception, another exception occurred:\n",
      "\n",
      "Traceback (most recent call last):\n",
      "  File \"/groups/scicompsoft/home/bennettd/miniconda3/lib/python3.7/site-packages/tornado/ioloop.py\", line 743, in _run_callback\n",
      "    ret = callback()\n",
      "  File \"/groups/scicompsoft/home/bennettd/miniconda3/lib/python3.7/site-packages/tornado/ioloop.py\", line 767, in _discard_future_result\n",
      "    future.result()\n",
      "  File \"/groups/scicompsoft/home/bennettd/miniconda3/lib/python3.7/site-packages/distributed/deploy/spec.py\", line 308, in _correct_state_internal\n",
      "    await self.scheduler_comm.retire_workers(workers=list(to_close))\n",
      "  File \"/groups/scicompsoft/home/bennettd/miniconda3/lib/python3.7/site-packages/distributed/core.py\", line 684, in send_recv_from_rpc\n",
      "    comm = await self.live_comm()\n",
      "  File \"/groups/scicompsoft/home/bennettd/miniconda3/lib/python3.7/site-packages/distributed/core.py\", line 646, in live_comm\n",
      "    connection_args=self.connection_args,\n",
      "  File \"/groups/scicompsoft/home/bennettd/miniconda3/lib/python3.7/site-packages/distributed/comm/core.py\", line 227, in connect\n",
      "    _raise(error)\n",
      "  File \"/groups/scicompsoft/home/bennettd/miniconda3/lib/python3.7/site-packages/distributed/comm/core.py\", line 203, in _raise\n",
      "    raise IOError(msg)\n",
      "OSError: Timed out trying to connect to 'tcp://10.36.110.12:46242' after 5 s: Timed out trying to connect to 'tcp://10.36.110.12:46242' after 5 s: connect() didn't finish in time\n",
      "tornado.application - ERROR - Exception in callback functools.partial(<bound method IOLoop._discard_future_result of <zmq.eventloop.ioloop.ZMQIOLoop object at 0x2b8c40fba310>>, <Task finished coro=<SpecCluster._correct_state_internal() done, defined at /groups/scicompsoft/home/bennettd/miniconda3/lib/python3.7/site-packages/distributed/deploy/spec.py:300> exception=OSError(\"Timed out trying to connect to 'tcp://10.36.110.12:46242' after 5 s: Timed out trying to connect to 'tcp://10.36.110.12:46242' after 5 s: connect() didn't finish in time\")>)\n",
      "Traceback (most recent call last):\n",
      "  File \"/groups/scicompsoft/home/bennettd/miniconda3/lib/python3.7/site-packages/distributed/comm/core.py\", line 218, in connect\n",
      "    _raise(error)\n",
      "  File \"/groups/scicompsoft/home/bennettd/miniconda3/lib/python3.7/site-packages/distributed/comm/core.py\", line 203, in _raise\n",
      "    raise IOError(msg)\n",
      "OSError: Timed out trying to connect to 'tcp://10.36.110.12:46242' after 5 s: connect() didn't finish in time\n",
      "\n",
      "During handling of the above exception, another exception occurred:\n",
      "\n",
      "Traceback (most recent call last):\n",
      "  File \"/groups/scicompsoft/home/bennettd/miniconda3/lib/python3.7/site-packages/tornado/ioloop.py\", line 743, in _run_callback\n",
      "    ret = callback()\n",
      "  File \"/groups/scicompsoft/home/bennettd/miniconda3/lib/python3.7/site-packages/tornado/ioloop.py\", line 767, in _discard_future_result\n",
      "    future.result()\n",
      "  File \"/groups/scicompsoft/home/bennettd/miniconda3/lib/python3.7/site-packages/tornado/ioloop.py\", line 743, in _run_callback\n",
      "    ret = callback()\n",
      "  File \"/groups/scicompsoft/home/bennettd/miniconda3/lib/python3.7/site-packages/tornado/ioloop.py\", line 767, in _discard_future_result\n",
      "    future.result()\n",
      "  File \"/groups/scicompsoft/home/bennettd/miniconda3/lib/python3.7/site-packages/distributed/deploy/spec.py\", line 308, in _correct_state_internal\n",
      "    await self.scheduler_comm.retire_workers(workers=list(to_close))\n",
      "  File \"/groups/scicompsoft/home/bennettd/miniconda3/lib/python3.7/site-packages/distributed/core.py\", line 684, in send_recv_from_rpc\n",
      "    comm = await self.live_comm()\n",
      "  File \"/groups/scicompsoft/home/bennettd/miniconda3/lib/python3.7/site-packages/distributed/core.py\", line 646, in live_comm\n",
      "    connection_args=self.connection_args,\n",
      "  File \"/groups/scicompsoft/home/bennettd/miniconda3/lib/python3.7/site-packages/distributed/comm/core.py\", line 227, in connect\n",
      "    _raise(error)\n",
      "  File \"/groups/scicompsoft/home/bennettd/miniconda3/lib/python3.7/site-packages/distributed/comm/core.py\", line 203, in _raise\n",
      "    raise IOError(msg)\n",
      "OSError: Timed out trying to connect to 'tcp://10.36.110.12:46242' after 5 s: Timed out trying to connect to 'tcp://10.36.110.12:46242' after 5 s: connect() didn't finish in time\n",
      "2020-03-06 19:20:29,333 - dat_to_n5.py - INFO - Save completed in 3220.199875354767 s\n"
     ]
    },
    {
     "data": {
      "text/plain": [
       "0"
      ]
     },
     "execution_count": 2,
     "metadata": {},
     "output_type": "execute_result"
    }
   ],
   "source": [
    "source = glob('/groups/cosem/cosem/data/LoadID359_Cell81/raw/*.dat')\n",
    "dest = '/groups/cosem/cosem/data/LoadID359_Cell81/LoadID359_Cell81.n5/'\n",
    "output_chunks=(1,1024,1024)\n",
    "dat_to_n5(source, dest, 500, 6, 'uint16', output_chunks)"
   ]
  },
  {
   "cell_type": "code",
   "execution_count": null,
   "metadata": {},
   "outputs": [],
   "source": []
  }
 ],
 "metadata": {
  "kernelspec": {
   "display_name": "Python 3",
   "language": "python",
   "name": "python3"
  },
  "language_info": {
   "codemirror_mode": {
    "name": "ipython",
    "version": 3
   },
   "file_extension": ".py",
   "mimetype": "text/x-python",
   "name": "python",
   "nbconvert_exporter": "python",
   "pygments_lexer": "ipython3",
   "version": "3.7.6"
  }
 },
 "nbformat": 4,
 "nbformat_minor": 4
}
