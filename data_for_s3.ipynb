{
 "cells": [
  {
   "cell_type": "markdown",
   "metadata": {},
   "source": [
    "To prepare: \n",
    "1. Pancreas - 4nm\n",
    "2. HeLa 2&3 - 4nm\n",
    "3. Fly fan shaped body(?) - 4nm; we don’t have this\n",
    "4. Macrophage - 4nm\n",
    "5. Jurkat - 4nm\n",
    "6. SUM159 - 4nm\n",
    "7. TCell on cancer - 4nm; I don’t know if we have the most recent dataset\n",
    "8. HeLa mitotic - 4nm; we don’t have this\n"
   ]
  },
  {
   "cell_type": "code",
   "execution_count": null,
   "metadata": {},
   "outputs": [],
   "source": [
    "%load_ext autoreload\n",
    "%autoreload 2\n",
    "from pathlib import Path\n",
    "from fst.scripts.python.consolidate_dataset import prepare_store, dataset, name_prediction_array, DataArrayFactory\n",
    "import dask\n",
    "import dask.array as da\n",
    "from tqdm import tqdm"
   ]
  },
  {
   "cell_type": "code",
   "execution_count": null,
   "metadata": {},
   "outputs": [],
   "source": [
    "sources = {}\n",
    "fibsem_path = Path('/groups/cosem/cosem/data/HeLa_Cell2_4x4x4nm/HeLa_Cell2_4x4x4nm.n5/volumes/raw/')\n",
    "sources['fibsem'] = DataArrayFactory(fibsem_path, dest_path='fibsem', chunks='auto')\n",
    "\n",
    "preds = [Path('/nrs/cosem/cosem/training/v0003.2/setup03/HeLa_Cell2_4x4x4nm/HeLa_Cell2_4x4x4nm_it625000.n5/er/'),\n",
    "         Path('/nrs/cosem/cosem/training/v0003.2/setup03/HeLa_Cell2_4x4x4nm/HeLa_Cell2_4x4x4nm_it625000.n5/plasma_membrane/'),\n",
    "         Path('/nrs/cosem/cosem/training/v0003.2/setup25/HeLa_Cell2_4x4x4nm/HeLa_Cell2_4x4x4nm_it625000.n5/mito/'),\n",
    "         Path('/nrs/cosem/cosem/training/v0003.2/setup03/HeLa_Cell2_4x4x4nm/HeLa_Cell2_4x4x4nm_it625000.n5/nucleus/')]\n",
    "\n",
    "for pred in preds:\n",
    "    path = 'prediction/' + name_prediction_array(pred)\n",
    "    array = DataArrayFactory(pred, path, 'auto')\n",
    "    sources[path] = array\n",
    "    \n",
    "ds = dataset(name='jrc_hela_a01', sources=sources)"
   ]
  },
  {
   "cell_type": "code",
   "execution_count": null,
   "metadata": {},
   "outputs": [],
   "source": [
    "sources = {}\n",
    "fibsem_path = Path('/groups/cosem/cosem/data/Macrophage_FS80_Cell2_4x4x4nm/Cryo_FS80_Cell2_4x4x4nm.n5/volumes/raw/')\n",
    "sources['fibsem'] = DataArrayFactory(fibsem_path, dest_path='fibsem', chunks='auto')\n",
    "\n",
    "preds = [Path('/nrs/cosem/cosem/training/v0003.2/setup03/Macrophage_FS80_Cell2_4x4x4nm/Cryo_FS80_Cell2_4x4x4nm_it650000.n5/er/'),\n",
    "         Path('/nrs/cosem/cosem/training/v0003.2/setup03/Macrophage_FS80_Cell2_4x4x4nm/Cryo_FS80_Cell2_4x4x4nm_it650000.n5/plasma_membrane/'),\n",
    "         Path('/nrs/cosem/cosem/training/v0003.2/setup03/Macrophage_FS80_Cell2_4x4x4nm/Cryo_FS80_Cell2_4x4x4nm_it500000.n5/mito/'),\n",
    "         Path('/nrs/cosem/cosem/training/v0003.2/setup03/Macrophage_FS80_Cell2_4x4x4nm/Cryo_FS80_Cell2_4x4x4nm_it625000.n5/nucleus/')]\n",
    "\n",
    "for pred in preds:\n",
    "    path = 'prediction/' + name_prediction_array(pred)\n",
    "    array = DataArrayFactory(pred, path, 'auto')\n",
    "    sources[path] = array\n",
    "    \n",
    "ds = dataset(name='macrophage', sources=sources)"
   ]
  },
  {
   "cell_type": "code",
   "execution_count": null,
   "metadata": {},
   "outputs": [],
   "source": [
    "sources = {}\n",
    "fibsem_path = Path('/groups/cosem/cosem/data/jrc_ctl-id8_a00/jrc_ctl-id8_a00.n5/volumes/aligned/')\n",
    "sources['fibsem'] = DataArrayFactory(fibsem_path, dest_path='fibsem', chunks='auto')\n",
    "ds = dataset(name='jrc_ctl-id8_a00', sources=sources)"
   ]
  },
  {
   "cell_type": "code",
   "execution_count": null,
   "metadata": {},
   "outputs": [],
   "source": [
    "sources = {}\n",
    "fibsem_path = Path('/groups/cosem/cosem/bennettd/drosophila_FSB_Col_1-9_Z0519-11_4x4x4nm/drosophila_FSB_Col_1-9_Z0519-11_4x4x4nm.n5/volumes/raw')\n",
    "sources['fibsem'] = DataArrayFactory(fibsem_path, dest_path='fibsem', chunks='auto')\n",
    "ds = dataset(name='jrc_fly-fsb_a00', sources=sources)"
   ]
  },
  {
   "cell_type": "code",
   "execution_count": null,
   "metadata": {},
   "outputs": [],
   "source": [
    "output_dir = '/nrs/cosem/davis/s3_testing/'\n",
    "to_store = prepare_store(ds, output_dir, {'z': 2, 'y': 2, 'x': 2})"
   ]
  },
  {
   "cell_type": "code",
   "execution_count": null,
   "metadata": {},
   "outputs": [],
   "source": [
    "from fst.distributed import get_cluster\n",
    "cl = get_cluster(walltime='300')\n",
    "cl"
   ]
  },
  {
   "cell_type": "code",
   "execution_count": null,
   "metadata": {},
   "outputs": [],
   "source": [
    "cl.cluster.scale(150)\n",
    "results = []\n",
    "for pyr in tqdm(to_store):\n",
    "    results.append(cl.gather(cl.compute(pyr)))\n",
    "cl.cluster.scale(0)"
   ]
  },
  {
   "cell_type": "code",
   "execution_count": null,
   "metadata": {},
   "outputs": [],
   "source": []
  }
 ],
 "metadata": {
  "kernelspec": {
   "display_name": "Python 3",
   "language": "python",
   "name": "python3"
  },
  "language_info": {
   "codemirror_mode": {
    "name": "ipython",
    "version": 3
   },
   "file_extension": ".py",
   "mimetype": "text/x-python",
   "name": "python",
   "nbconvert_exporter": "python",
   "pygments_lexer": "ipython3",
   "version": "3.8.2"
  }
 },
 "nbformat": 4,
 "nbformat_minor": 4
}
