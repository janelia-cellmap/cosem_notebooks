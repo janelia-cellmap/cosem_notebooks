{
 "cells": [
  {
   "cell_type": "code",
   "execution_count": null,
   "metadata": {},
   "outputs": [],
   "source": [
    "# fst is the library I wrote for cosem, it's here on github:\n",
    "# https://github.com/janelia-cosem/fst\n",
    "from fst.io import read\n",
    "from fst.pyramid import downscale\n",
    "from fst.distributed import get_cluster\n",
    "import dask.array as da\n",
    "import numpy as np\n",
    "from skimage.io import imsave\n",
    "import os\n",
    "\n",
    "# permissions error\n",
    "# out_dir = '/groups/hess/hesslab/FIB-SEM_resolution/Atlas_data_sets/LID496_Atlas1/Segmentation/'\n",
    "out_dir = '/groups/cosem/cosem/bennettd/for_gleb/'\n",
    "\n",
    "# read data\n",
    "data = read('/nrs/cosem/cosem/training/v0003.2/setup03/jrc_ctl-id8_a00/jrc_ctl-id8_a00_it650000.n5/ecs')\n",
    "arr = da.from_array(data)\n",
    "\n",
    "# define downsampling parameters\n",
    "ds_factor = 10\n",
    "\n",
    "# define downsampled dataset\n",
    "arr_ds = downscale(arr, np.mean, (ds_factor,) * arr.ndim).astype(arr.dtype)\n",
    "\n",
    "# get dask client that is connected to janelia cluster. This starts a \n",
    "# web server for monitoring progress.\n",
    "\n",
    "cl = get_cluster()\n",
    "print('See cluster status at', cl.dashboard_link)\n",
    "\n",
    "# get 100 workers from janelia cluster\n",
    "cl.cluster.scale(100)\n",
    "# compute the downsampled data -- result is a numpy array\n",
    "result = arr_ds.compute(scheduler=cl)\n",
    "# retire the workers\n",
    "cl.cluster.scale(0)\n",
    "\n",
    "# save the data\n",
    "imsave(os.path.join(out_dir, data.path + '.tif'), result)"
   ]
  },
  {
   "cell_type": "code",
   "execution_count": null,
   "metadata": {},
   "outputs": [],
   "source": []
  }
 ],
 "metadata": {
  "kernelspec": {
   "display_name": "Python 3",
   "language": "python",
   "name": "python3"
  },
  "language_info": {
   "codemirror_mode": {
    "name": "ipython",
    "version": 3
   },
   "file_extension": ".py",
   "mimetype": "text/x-python",
   "name": "python",
   "nbconvert_exporter": "python",
   "pygments_lexer": "ipython3",
   "version": "3.8.2"
  }
 },
 "nbformat": 4,
 "nbformat_minor": 4
}
