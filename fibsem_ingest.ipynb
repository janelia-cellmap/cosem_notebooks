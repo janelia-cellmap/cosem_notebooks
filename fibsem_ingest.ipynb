{
 "cells": [
  {
   "cell_type": "code",
   "execution_count": 1,
   "metadata": {},
   "outputs": [],
   "source": [
    "from glob import glob\n",
    "from fst.io import read\n",
    "from os.path import exists, isdir\n",
    "from pathlib import Path"
   ]
  },
  {
   "cell_type": "code",
   "execution_count": 2,
   "metadata": {},
   "outputs": [],
   "source": [
    "def checker(path):\n",
    "    if exists(path):\n",
    "        return read(path).attrs.get('datatypeChange')\n",
    "    else:\n",
    "        return None"
   ]
  },
  {
   "cell_type": "code",
   "execution_count": 3,
   "metadata": {},
   "outputs": [],
   "source": [
    "group_path = '/volumes/raw/ch0/'\n",
    "all_dirs = filter(isdir, glob('/groups/cosem/cosem/data/*'))\n",
    "res = []\n",
    "for a in all_dirs:\n",
    "    n5s = list(map(str, Path(a).glob('*.n5')))\n",
    "    rawdir = list(map(str, Path(a).glob('raw')))\n",
    "    if len(rawdir) == 1:\n",
    "        rawdir = rawdir[0]    \n",
    "        if len(n5s) == 1:\n",
    "            n5 = n5s[0]\n",
    "        if len(n5s) > 1:\n",
    "            n5 = list(map(str, Path(a).glob('*_raw.n5')))[0]\n",
    "        res.append((rawdir, n5, checker(n5 + group_path)))"
   ]
  },
  {
   "cell_type": "code",
   "execution_count": 5,
   "metadata": {},
   "outputs": [],
   "source": [
    "script_path = '/groups/scicompsoft/home/bennettd/forked/fst/scripts/python/dat_to_n5.py'\n",
    "cmds = []\n",
    "num_workers = 100\n",
    "for raw,dest,check in res:\n",
    "    if not check:\n",
    "        cmds.append(['python', script_path, '-s', raw + '/', '-d', dest, '-nw', str(num_workers), '-dt', 'uint16'])"
   ]
  },
  {
   "cell_type": "code",
   "execution_count": 6,
   "metadata": {},
   "outputs": [
    {
     "data": {
      "text/plain": [
       "[]"
      ]
     },
     "execution_count": 6,
     "metadata": {},
     "output_type": "execute_result"
    }
   ],
   "source": [
    "cmds"
   ]
  },
  {
   "cell_type": "code",
   "execution_count": null,
   "metadata": {},
   "outputs": [
    {
     "name": "stdout",
     "output_type": "stream",
     "text": [
      "2019-12-14 16:33:13,588 - dat_to_n5.py - INFO - Cluster initialized. View status at http://10.36.111.13:8787/status\n",
      "2019-12-14 16:33:13,726 - dat_to_n5.py - INFO - Preparing 8158 images...\n"
     ]
    }
   ],
   "source": [
    "!{' '.join(cmds[0])}"
   ]
  },
  {
   "cell_type": "code",
   "execution_count": null,
   "metadata": {},
   "outputs": [],
   "source": [
    "!{' '.join(cmds[1])}"
   ]
  },
  {
   "cell_type": "code",
   "execution_count": null,
   "metadata": {},
   "outputs": [],
   "source": [
    "!{' '.join(cmds[2])}"
   ]
  },
  {
   "cell_type": "code",
   "execution_count": 25,
   "metadata": {},
   "outputs": [
    {
     "name": "stdout",
     "output_type": "stream",
     "text": [
      "\n",
      "2019-12-13 10:38:16,934 - dat_to_n5.py - INFO - Cluster initialized. View status at http://10.36.111.13:8787/status\n",
      "RETURN CODE 0\n",
      "2019-12-13 10:38:17,167 - dat_to_n5.py - INFO - Preparing 7872 images...\n",
      "2019-12-13 10:41:36,673 - dat_to_n5.py - INFO - Calculating minimum and maximum values of the input data...\n",
      "2019-12-13 10:51:13,479 - dat_to_n5.py - INFO - Assembled dataset with shape (7872, 2, 1250, 16500) using chunk sizes (1, 2, 1250, 16500)\n",
      "2019-12-13 10:51:13,479 - dat_to_n5.py - INFO - Initializing chunked storage for multiple pyramid levels....\n",
      "2019-12-13 11:01:06,018 - dat_to_n5.py - INFO - Begin saving data...\n",
      "2019-12-13 11:01:17,533 - dat_to_n5.py - INFO - 0 out of range(0, 3)\n",
      "2019-12-13 11:12:51,492 - dat_to_n5.py - INFO - 1 out of range(0, 3)\n",
      "2019-12-13 11:24:19,941 - dat_to_n5.py - INFO - 2 out of range(0, 3)\n",
      "2019-12-13 11:35:55,933 - dat_to_n5.py - INFO - Save completed in 3459.9222695827484 s\n"
     ]
    }
   ],
   "source": [
    "import subprocess\n",
    "cmd = cmds[0]\n",
    "process = subprocess.Popen(cmd, \n",
    "                           stdout=subprocess.PIPE,\n",
    "                           stderr=subprocess.PIPE,\n",
    "                           universal_newlines=True)\n",
    "\n",
    "while True:\n",
    "    output = process.stdout.readline()\n",
    "    err= process.stderr.readline()\n",
    "    print(output.strip())\n",
    "    print(err.strip())\n",
    "\n",
    "    # Do something else\n",
    "    return_code = process.poll()\n",
    "    if return_code is not None:\n",
    "        print('RETURN CODE', return_code)\n",
    "        # Process has finished, read rest of the output \n",
    "        for output in process.stdout.readlines():\n",
    "            print(output.strip())\n",
    "        for output in process.stderr.readlines():\n",
    "            print(output.strip())\n",
    "        break"
   ]
  }
 ],
 "metadata": {
  "kernelspec": {
   "display_name": "Python 3",
   "language": "python",
   "name": "python3"
  },
  "language_info": {
   "codemirror_mode": {
    "name": "ipython",
    "version": 3
   },
   "file_extension": ".py",
   "mimetype": "text/x-python",
   "name": "python",
   "nbconvert_exporter": "python",
   "pygments_lexer": "ipython3",
   "version": "3.8.2"
  }
 },
 "nbformat": 4,
 "nbformat_minor": 4
}
