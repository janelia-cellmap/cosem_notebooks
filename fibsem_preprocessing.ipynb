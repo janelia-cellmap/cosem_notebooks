{
 "cells": [
  {
   "cell_type": "markdown",
   "metadata": {},
   "source": [
    "# preprocess fibsemdata"
   ]
  },
  {
   "cell_type": "code",
   "execution_count": 1,
   "metadata": {},
   "outputs": [
    {
     "name": "stderr",
     "output_type": "stream",
     "text": [
      "/groups/scicompsoft/home/bennettd/miniconda3/lib/python3.7/site-packages/napari/__init__.py:27: UserWarning: \n",
      "    napari was tested with QT library `>=5.12.3`.\n",
      "    The version installed is 5.9.7. Please report any issues with this\n",
      "    specific QT version at https://github.com/Napari/napari/issues.\n",
      "    \n",
      "  warn(message=warn_message)\n"
     ]
    }
   ],
   "source": [
    "import dask.array as da\n",
    "from dask import delayed\n",
    "import napari \n",
    "import numpy as np\n",
    "from fst.io import read, access_n5\n",
    "import matplotlib.pyplot as plt\n",
    "from distributed import Client\n",
    "from fish.fish.util.distributed import get_jobqueue_cluster\n",
    "from skimage.exposure import rescale_intensity as rescale\n",
    "import numcodecs\n",
    "%gui qt"
   ]
  },
  {
   "cell_type": "code",
   "execution_count": 2,
   "metadata": {},
   "outputs": [],
   "source": [
    "def shifter(data, shifts, block_id=None, order=1, cval=0.0):  \n",
    "    from scipy.ndimage.interpolation import shift\n",
    "    shifts_ = (0, *shifts[block_id[0]])   \n",
    "    return shift(data, shifts_, order=order, cval=cval).astype('float32')\n",
    "\n",
    "def detrend_spline(data, **kwargs):\n",
    "    from numpy import stack, arange, rollaxis\n",
    "    from scipy.interpolate import LSQUnivariateSpline\n",
    "    x = arange(data.shape[0])\n",
    "    result = stack([LSQUnivariateSpline(x, y, **kwargs)(x) for y in rollaxis(data, 1)]).T\n",
    "    return data - result"
   ]
  },
  {
   "cell_type": "code",
   "execution_count": 3,
   "metadata": {},
   "outputs": [],
   "source": [
    "from pathlib import Path\n",
    "import zarr\n",
    "exp_path = '/groups/cosem/cosem/data/LoadID365_ROI4_8x8x8nm/LoadID365_ROI4_8x8x8nm.n5/'\n",
    "output_path = '/volumes/proc/'\n",
    "input_path = '/volumes/raw/ch0'\n",
    "exp_name = Path(exp_path).parts[-1].split('.')[0]\n",
    "dlog = zarr.open(f'/nrs/cosem/davis/{exp_name}_procdata.zr')\n",
    "\n",
    "zr = read(exp_path + input_path)\n",
    "data = da.from_array(zr, chunks=(1,-1,-1))\n",
    "binning = {0:2, 1:1, 2:1}\n",
    "output_pixel_size = [8,8,8]\n",
    "pixel_unit = 'nm'\n",
    "\n",
    "attrs = dict()\n",
    "attrs['name'] = exp_path.split('/')[-2].split('.')[0]\n",
    "attrs['pixelResolution'] = dict(dimensions=output_pixel_size,\n",
    "                                unit=pixel_unit)"
   ]
  },
  {
   "cell_type": "code",
   "execution_count": 4,
   "metadata": {},
   "outputs": [
    {
     "name": "stderr",
     "output_type": "stream",
     "text": [
      "WARNING: QStandardPaths: XDG_RUNTIME_DIR points to non-existing path '/run/user/51412', please create it with 0700 permissions.\n"
     ]
    }
   ],
   "source": [
    "output_dtype = 'uint16'\n",
    "output_chunks = data.ndim * (256,)\n",
    "raw_shifts = dlog['shifts/raw'][:]\n",
    "raw_shifts_det = detrend_spline(raw_shifts, t = np.arange(1, raw_shifts.shape[0], 1000))\n",
    "accumulated_shifts = np.cumsum(raw_shifts,0)\n",
    "accumulated_shifts_det = np.cumsum(raw_shifts_det, 0)\n",
    "\n",
    "shifts_dsk = da.from_array(accumulated_shifts_det, chunks=(-1,-1))"
   ]
  },
  {
   "cell_type": "code",
   "execution_count": 5,
   "metadata": {},
   "outputs": [],
   "source": [
    "mn, mx = data.min(), data.max()\n",
    "\n",
    "flipped = data.map_blocks(rescale, \n",
    "                         in_range=(mn, mx), \n",
    "                         out_range=(mx, mn), \n",
    "                         dtype=data.dtype)\n",
    "\n",
    "shifted = flipped.map_blocks(shifter, \n",
    "                             shifts=shifts_dsk, \n",
    "                             cval=mx,\n",
    "                             order=3,\n",
    "                             dtype='float32')\n",
    "\n",
    "binned = da.coarsen(np.mean, \n",
    "                    shifted.rechunk((2,-1,-1)), \n",
    "                    binning)\n",
    "\n",
    "rescaled = binned.map_blocks(rescale, \n",
    "                             in_range=(binned.min(), binned.max()), \n",
    "                             out_range=output_dtype, \n",
    "                             dtype=binned.dtype).astype(output_dtype)\n",
    "\n",
    "rechunked = rescaled.rechunk(output_chunks)\n"
   ]
  },
  {
   "cell_type": "code",
   "execution_count": 6,
   "metadata": {},
   "outputs": [],
   "source": [
    "# save to disk\n",
    "from numcodecs import GZip\n",
    "compressor=GZip(level=-1)\n",
    "dest = access_n5(dir_path=exp_path, \n",
    "                 container_path=output_path,\n",
    "                 shape=rechunked.shape,\n",
    "                 mode='w',\n",
    "                 chunks=output_chunks,\n",
    "                 compressor=compressor,\n",
    "                 dtype=rechunked.dtype)\n",
    "\n",
    "dest.attrs.update(**attrs)"
   ]
  },
  {
   "cell_type": "code",
   "execution_count": 7,
   "metadata": {},
   "outputs": [
    {
     "name": "stderr",
     "output_type": "stream",
     "text": [
      "/groups/scicompsoft/home/bennettd/miniconda3/lib/python3.7/site-packages/distributed/dashboard/core.py:72: UserWarning: \n",
      "Port 8787 is already in use. \n",
      "Perhaps you already have a cluster running?\n",
      "Hosting the diagnostics dashboard on a random port instead.\n",
      "  warnings.warn(\"\\n\" + msg)\n"
     ]
    },
    {
     "data": {
      "text/html": [
       "<table style=\"border: 2px solid white;\">\n",
       "<tr>\n",
       "<td style=\"vertical-align: top; border: 0px solid white\">\n",
       "<h3 style=\"text-align: left;\">Client</h3>\n",
       "<ul style=\"text-align: left; list-style: none; margin: 0; padding: 0;\">\n",
       "  <li><b>Scheduler: </b>tcp://10.36.111.12:46873</li>\n",
       "  <li><b>Dashboard: </b><a href='http://10.36.111.12:42389/status' target='_blank'>http://10.36.111.12:42389/status</a>\n",
       "</ul>\n",
       "</td>\n",
       "<td style=\"vertical-align: top; border: 0px solid white\">\n",
       "<h3 style=\"text-align: left;\">Cluster</h3>\n",
       "<ul style=\"text-align: left; list-style:none; margin: 0; padding: 0;\">\n",
       "  <li><b>Workers: </b>0</li>\n",
       "  <li><b>Cores: </b>0</li>\n",
       "  <li><b>Memory: </b>0 B</li>\n",
       "</ul>\n",
       "</td>\n",
       "</tr>\n",
       "</table>"
      ],
      "text/plain": [
       "<Client: 'tcp://10.36.111.12:46873' processes=0 threads=0, memory=0 B>"
      ]
     },
     "execution_count": 7,
     "metadata": {},
     "output_type": "execute_result"
    }
   ],
   "source": [
    "client = Client(get_jobqueue_cluster())\n",
    "client"
   ]
  },
  {
   "cell_type": "code",
   "execution_count": 8,
   "metadata": {},
   "outputs": [],
   "source": [
    "client.cluster.start_workers(100)\n",
    "#sample = flipped[0].compute()\n",
    "rechunked.to_zarr(dest)\n",
    "client.cluster.stop_all_jobs()"
   ]
  },
  {
   "cell_type": "code",
   "execution_count": 1,
   "metadata": {},
   "outputs": [],
   "source": [
    "# put in the chmodr call"
   ]
  },
  {
   "cell_type": "code",
   "execution_count": null,
   "metadata": {},
   "outputs": [],
   "source": []
  }
 ],
 "metadata": {
  "kernelspec": {
   "display_name": "Python 3",
   "language": "python",
   "name": "python3"
  },
  "language_info": {
   "codemirror_mode": {
    "name": "ipython",
    "version": 3
   },
   "file_extension": ".py",
   "mimetype": "text/x-python",
   "name": "python",
   "nbconvert_exporter": "python",
   "pygments_lexer": "ipython3",
   "version": "3.8.2"
  }
 },
 "nbformat": 4,
 "nbformat_minor": 4
}
