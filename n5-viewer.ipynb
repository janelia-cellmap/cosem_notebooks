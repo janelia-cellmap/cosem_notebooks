{
 "cells": [
  {
   "cell_type": "code",
   "execution_count": 1,
   "metadata": {},
   "outputs": [
    {
     "data": {
      "text/plain": [
       "['/groups/cosem/cosem/data/COS7_Cell11_8x8x8nm/Cryo_LoadID277_Cell11_8x8x8nm_bigwarped_v17.n5',\n",
       " '/groups/cosem/cosem/data/Chlamydomonas_4x4x4nm/Chlamydomonas_4x4x4nm.n5',\n",
       " '/groups/cosem/cosem/data/HeLa_Cell1_8x8x8nm/HeLa_Cell1_D05-10_8x8x8nm.n5',\n",
       " '/groups/cosem/cosem/data/HeLa_Cell21_8x8x8nm/HeLa_Cell21_8x8x8nm.n5',\n",
       " '/groups/cosem/cosem/data/HeLa_Cell25_8x8x8nm/HeLa_Cell25_flat_8x8x8nm.n5',\n",
       " '/groups/cosem/cosem/data/HeLa_Cell2_4x4x4nm/Aubrey_17-7_17_Cell2_4x4x4nm.n5',\n",
       " '/groups/cosem/cosem/data/HeLa_Cell3_4x4x4nm/Aubrey_17-7_17_Cell3_4x4x4nm.n5',\n",
       " '/groups/cosem/cosem/data/Jurkat_Cell1_4x4x4nm/Jurkat_Cell1_FS96-Area1_4x4x4nm.n5',\n",
       " '/groups/cosem/cosem/data/Macrophage_FS80_Cell2_4x4x4nm/Cryo_FS80_Cell2_4x4x4nm.n5',\n",
       " '/groups/cosem/cosem/data/Mouse_NA3-3_4x4x4nm/Mouse_NA3-3_4x4x4nm.n5',\n",
       " '/groups/cosem/cosem/data/Pancreas_Islets_4x4x4m/Pancreas_G36-2_4x4x4nm.n5',\n",
       " '/groups/cosem/cosem/data/TWalther_WT45_Cell2_4x4x4nm/Cryo_20171009_WT45_Cell2_4x4x4nm.n5']"
      ]
     },
     "execution_count": 1,
     "metadata": {},
     "output_type": "execute_result"
    }
   ],
   "source": [
    "import subprocess\n",
    "from glob import glob\n",
    "base_dir = '/groups/cosem/cosem/data/'\n",
    "dsets = sorted(glob(base_dir + '*/*.n5'))\n",
    "dsets"
   ]
  },
  {
   "cell_type": "code",
   "execution_count": 2,
   "metadata": {},
   "outputs": [
    {
     "data": {
      "text/plain": [
       "0"
      ]
     },
     "execution_count": 2,
     "metadata": {},
     "output_type": "execute_result"
    }
   ],
   "source": [
    "container = dsets[2]\n",
    "dataset = '/volumes/raw/'\n",
    "subprocess.call(['n5-view', f'--container={container}', f'--datasets={dataset}'])"
   ]
  },
  {
   "cell_type": "code",
   "execution_count": null,
   "metadata": {},
   "outputs": [],
   "source": []
  }
 ],
 "metadata": {
  "kernelspec": {
   "display_name": "Python 3",
   "language": "python",
   "name": "python3"
  },
  "language_info": {
   "codemirror_mode": {
    "name": "ipython",
    "version": 3
   },
   "file_extension": ".py",
   "mimetype": "text/x-python",
   "name": "python",
   "nbconvert_exporter": "python",
   "pygments_lexer": "ipython3",
   "version": "3.7.3"
  }
 },
 "nbformat": 4,
 "nbformat_minor": 4
}
