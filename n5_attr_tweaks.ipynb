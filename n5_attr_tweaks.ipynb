{
 "cells": [
  {
   "cell_type": "code",
   "execution_count": 1,
   "metadata": {},
   "outputs": [],
   "source": [
    "from fst.io import access, read\n",
    "import json"
   ]
  },
  {
   "cell_type": "code",
   "execution_count": 2,
   "metadata": {},
   "outputs": [],
   "source": [
    "from os.path import isdir\n",
    "from pathlib import Path\n",
    "from glob import glob\n",
    "group_path = '/volumes/raw/ch0/'\n",
    "all_dirs = filter(isdir, glob('/groups/cosem/cosem/data/*'))\n",
    "res = []\n",
    "for a in all_dirs:\n",
    "    n5s = list(map(str, Path(a).glob('*.n5')))\n",
    "    rawdir = list(map(str, Path(a).glob('raw')))\n",
    "    if len(rawdir) == 1:\n",
    "        rawdir = rawdir[0]    \n",
    "        if len(n5s) == 1:\n",
    "            n5 = n5s[0]\n",
    "        if len(n5s) > 1:\n",
    "            n5 = list(map(str, Path(a).glob('*_raw.n5')))[0]\n",
    "        res.append((rawdir, n5))"
   ]
  },
  {
   "cell_type": "code",
   "execution_count": 3,
   "metadata": {},
   "outputs": [],
   "source": [
    "import numpy as np\n",
    "zsteps = []\n",
    "for r in res:\n",
    "    rawfiles = glob(r[0] + '/*.dat')\n",
    "    num_raw = len(rawfiles)\n",
    "    try:\n",
    "        json_file = glob(r[0] + '/*.json')[0]\n",
    "        with open(json_file) as f:\n",
    "            zstep = float(json.load(f)['Z-step (nm)'])\n",
    "    except IndexError:\n",
    "            zstep = 0.0    \n",
    "    xystep = np.round(read(rawfiles[0]).header.__dict__['PixelSize'])\n",
    "    zsteps.append((r[0], zstep, xystep, xystep))\n",
    "    "
   ]
  },
  {
   "cell_type": "code",
   "execution_count": 7,
   "metadata": {},
   "outputs": [],
   "source": [
    "wds = [read(r).header.__dict__['WD'] for r in sorted(rawfiles)]"
   ]
  },
  {
   "cell_type": "code",
   "execution_count": 6,
   "metadata": {},
   "outputs": [
    {
     "data": {
      "text/plain": [
       "['/groups/cosem/cosem/data/hela_nz_2/raw',\n",
       " '/groups/cosem/cosem/data/Jurkat_Cell1_4x4x4nm/raw',\n",
       " '/groups/cosem/cosem/data/COS7_Cell11_8x8x8nm/raw',\n",
       " '/groups/cosem/cosem/data/Pancreas_Islets_4x4x4m/raw',\n",
       " '/groups/cosem/cosem/data/FS163v2_Cell2/raw',\n",
       " '/groups/cosem/cosem/data/U2OS_Cell4_8x8x8nm/raw',\n",
       " '/groups/cosem/cosem/data/FlyBrain_VNC_Sec16_4x4x4nm/raw',\n",
       " '/groups/cosem/cosem/data/HeLa_Cell2_4x4x4nm/raw',\n",
       " '/groups/cosem/cosem/data/U2OS_Cell6_8x8x8nm/raw',\n",
       " '/groups/cosem/cosem/data/ctl_1/raw',\n",
       " '/groups/cosem/cosem/data/Chlamydomonas_4x4x4nm/raw',\n",
       " '/groups/cosem/cosem/data/HeLa_Cell3_4x4x4nm/raw',\n",
       " '/groups/cosem/cosem/data/LoadID365_ROI4_8x8x8nm/raw',\n",
       " '/groups/cosem/cosem/data/TWalther_WT45_Cell2_4x4x4nm/raw',\n",
       " '/groups/cosem/cosem/data/HeLa_Cell25_8x8x8nm/raw',\n",
       " '/groups/cosem/cosem/data/Macrophage_FS80_Cell2_4x4x4nm/raw',\n",
       " '/groups/cosem/cosem/data/ctl_id8_1/raw',\n",
       " '/groups/cosem/cosem/data/HeLa_Cell21_8x8x8nm/raw',\n",
       " '/groups/cosem/cosem/data/LoadID365_ROI6_8x8x8nm/raw',\n",
       " '/groups/cosem/cosem/data/hela_4/raw',\n",
       " '/groups/cosem/cosem/data/HeLa_Cell1_8x8x8nm/raw',\n",
       " '/groups/cosem/cosem/data/Mouse_NA3-3_4x4x4nm/raw',\n",
       " '/groups/cosem/cosem/data/Choroid-Plexus_4x4x4nm/raw']"
      ]
     },
     "execution_count": 6,
     "metadata": {},
     "output_type": "execute_result"
    }
   ],
   "source": [
    "[r[0] for r in res]"
   ]
  },
  {
   "cell_type": "code",
   "execution_count": 41,
   "metadata": {},
   "outputs": [],
   "source": [
    "import numpy as np\n",
    "from distributed import Client\n",
    "zstep_estimates = []\n",
    "\n",
    "for r in res:\n",
    "    rawfiles = sorted(glob(r[0] + '/*.dat'))    \n",
    "    query = lambda v: read(v).header.__dict__['WD']    \n",
    "    with Client() as client:\n",
    "        zsteps = client.gather(client.map(query, rawfiles))\n",
    "    diffs = np.diff(zsteps)\n",
    "    # take the median of the steps and convert from mm to nm and  round to nearest decimal\n",
    "    # place\n",
    "    zstep = np.round(np.median(diffs) * 10 ** 6,2)\n",
    "    xystep = np.round(read(rawfiles[0]).header.__dict__['PixelSize'],2)\n",
    "    zstep_estimates.append((r[0], zstep, xystep, xystep))\n"
   ]
  },
  {
   "cell_type": "code",
   "execution_count": 42,
   "metadata": {},
   "outputs": [
    {
     "data": {
      "text/plain": [
       "[('/groups/cosem/cosem/data/hela_nz_2/raw', 4.05, 4.0, 4.0),\n",
       " ('/groups/cosem/cosem/data/Jurkat_Cell1_4x4x4nm/raw', 4.05, 4.0, 4.0),\n",
       " ('/groups/cosem/cosem/data/COS7_Cell11_8x8x8nm/raw', 4.05, 8.0, 8.0),\n",
       " ('/groups/cosem/cosem/data/Pancreas_Islets_4x4x4m/raw', 4.05, 4.0, 4.0),\n",
       " ('/groups/cosem/cosem/data/FS163v2_Cell2/raw', 4.05, 4.0, 4.0),\n",
       " ('/groups/cosem/cosem/data/U2OS_Cell4_8x8x8nm/raw', 4.05, 8.0, 8.0),\n",
       " ('/groups/cosem/cosem/data/FlyBrain_VNC_Sec16_4x4x4nm/raw', 4.05, 4.0, 4.0),\n",
       " ('/groups/cosem/cosem/data/HeLa_Cell2_4x4x4nm/raw', 4.05, 4.0, 4.0),\n",
       " ('/groups/cosem/cosem/data/U2OS_Cell6_8x8x8nm/raw', 4.05, 8.0, 8.0),\n",
       " ('/groups/cosem/cosem/data/ctl_1/raw', 4.05, 4.0, 4.0),\n",
       " ('/groups/cosem/cosem/data/Chlamydomonas_4x4x4nm/raw', 0.0, 2.0, 2.0),\n",
       " ('/groups/cosem/cosem/data/HeLa_Cell3_4x4x4nm/raw', 4.05, 4.0, 4.0),\n",
       " ('/groups/cosem/cosem/data/LoadID365_ROI4_8x8x8nm/raw', 4.05, 8.0, 8.0),\n",
       " ('/groups/cosem/cosem/data/TWalther_WT45_Cell2_4x4x4nm/raw', 4.05, 4.0, 4.0),\n",
       " ('/groups/cosem/cosem/data/HeLa_Cell25_8x8x8nm/raw', 1.91, 8.0, 8.0),\n",
       " ('/groups/cosem/cosem/data/Macrophage_FS80_Cell2_4x4x4nm/raw',\n",
       "  4.05,\n",
       "  4.0,\n",
       "  4.0),\n",
       " ('/groups/cosem/cosem/data/ctl_id8_1/raw', 4.05, 8.0, 8.0),\n",
       " ('/groups/cosem/cosem/data/HeLa_Cell21_8x8x8nm/raw', 1.91, 8.0, 8.0),\n",
       " ('/groups/cosem/cosem/data/LoadID365_ROI6_8x8x8nm/raw', 4.05, 8.0, 8.0),\n",
       " ('/groups/cosem/cosem/data/hela_4/raw', 4.05, 4.0, 4.0),\n",
       " ('/groups/cosem/cosem/data/HeLa_Cell1_8x8x8nm/raw', 1.91, 8.0, 8.0),\n",
       " ('/groups/cosem/cosem/data/Mouse_NA3-3_4x4x4nm/raw', 0.0, 2.0, 2.0),\n",
       " ('/groups/cosem/cosem/data/Choroid-Plexus_4x4x4nm/raw', 4.05, 4.0, 4.0)]"
      ]
     },
     "execution_count": 42,
     "metadata": {},
     "output_type": "execute_result"
    }
   ],
   "source": [
    "zstep_estimates"
   ]
  },
  {
   "cell_type": "code",
   "execution_count": null,
   "metadata": {},
   "outputs": [],
   "source": []
  }
 ],
 "metadata": {
  "kernelspec": {
   "display_name": "Python 3",
   "language": "python",
   "name": "python3"
  },
  "language_info": {
   "codemirror_mode": {
    "name": "ipython",
    "version": 3
   },
   "file_extension": ".py",
   "mimetype": "text/x-python",
   "name": "python",
   "nbconvert_exporter": "python",
   "pygments_lexer": "ipython3",
   "version": "3.7.6"
  }
 },
 "nbformat": 4,
 "nbformat_minor": 4
}
