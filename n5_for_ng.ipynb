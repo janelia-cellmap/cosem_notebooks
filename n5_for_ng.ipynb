{
 "cells": [
  {
   "cell_type": "markdown",
   "metadata": {},
   "source": [
    "https://github.com/google/neuroglancer/issues/176#issuecomment-552032506\n",
    "\n",
    "The current n5 support is rather limited. It only supports 3d volumes in the format described here:\n",
    "https://github.com/saalfeldlab/n5-viewer\n",
    "\n",
    "Your data source URL then needs to be of the form:\n",
    "\n",
    "n5://http://localhost:5000/CONTAINER.n5/DATASET/c0\n",
    "\n",
    "CONTAINER.n5/DATASET/attributes.json should contain something like:\n",
    "\n",
    "{\n",
    "\"scales\":[[1,1,1]],\n",
    "\"pixelResolution\":{\"unit\":\"um\",\"dimensions\":[0.097,0.097,0.18]}\n",
    "}\n",
    "\n",
    "CONTAINER.n5/DATASET/c0/attributes.json should not exist (or will be ignored if it does),\n",
    "\n",
    "and\n",
    "\n",
    "CONTAINER.n5/DATASET/c0/s0/attributes.json should be a normal n5 dataset attributes.json file (with raw or gzip compression).\n",
    "\n",
    "The good news is that in a local branch I have already implemented better support for n5 that does not require such a specific directory structure, and I will be pushing it out soon. It is part of a large change that also adds support for 4-d, etc. volumes, but is not quite ready yet."
   ]
  },
  {
   "cell_type": "code",
   "execution_count": 1,
   "metadata": {},
   "outputs": [],
   "source": [
    "from fst.io import access"
   ]
  },
  {
   "cell_type": "code",
   "execution_count": 3,
   "metadata": {},
   "outputs": [],
   "source": [
    "from skimage.morphology import ball\n",
    "from skimage.transform import pyramid_gaussian"
   ]
  },
  {
   "cell_type": "code",
   "execution_count": 5,
   "metadata": {},
   "outputs": [
    {
     "name": "stderr",
     "output_type": "stream",
     "text": [
      "/home/bennettd/miniconda3/lib/python3.7/site-packages/napari/__init__.py:27: UserWarning: \n",
      "    napari was tested with QT library `>=5.12.3`.\n",
      "    The version installed is 5.9.6. Please report any issues with this\n",
      "    specific QT version at https://github.com/Napari/napari/issues.\n",
      "    \n",
      "  warn(message=warn_message)\n"
     ]
    }
   ],
   "source": [
    "import napari\n",
    "%gui qt"
   ]
  },
  {
   "cell_type": "code",
   "execution_count": 101,
   "metadata": {},
   "outputs": [],
   "source": [
    "base = ball(100).astype('float') \n",
    "base *= np.random.randint(0, 255, size=base.shape)\n",
    "data = list(pyramid_gaussian(base))[:1]"
   ]
  },
  {
   "cell_type": "code",
   "execution_count": 102,
   "metadata": {},
   "outputs": [],
   "source": [
    "data = [rescale(d, out_range=('uint8')).astype('uint8') for d in data]"
   ]
  },
  {
   "cell_type": "code",
   "execution_count": 103,
   "metadata": {},
   "outputs": [],
   "source": [
    "scales = list([2 ** k] * 3 for k in range(len(data)))"
   ]
  },
  {
   "cell_type": "code",
   "execution_count": 111,
   "metadata": {},
   "outputs": [],
   "source": [
    "attrs = dict(name='test', scales=scales, pixelResolution=dict(unit='um', dimensions=[1,1,1]))"
   ]
  },
  {
   "cell_type": "code",
   "execution_count": 112,
   "metadata": {},
   "outputs": [],
   "source": [
    "from numcodecs import GZip\n",
    "compressor = GZip(-1)\n",
    "\n",
    "group = access('/data/tmp.n5/test/', mode='w')\n",
    "group.attrs.update(**attrs)\n",
    "subgroup = group.create_group(name='c0')\n",
    "for ind, d in enumerate(data):\n",
    "    arr = subgroup.array(name = f's{ind}', data=d, compressor=compressor)\n"
   ]
  },
  {
   "cell_type": "code",
   "execution_count": 106,
   "metadata": {},
   "outputs": [],
   "source": [
    "from fst.io import read"
   ]
  },
  {
   "cell_type": "code",
   "execution_count": 108,
   "metadata": {},
   "outputs": [
    {
     "data": {
      "text/plain": [
       "255"
      ]
     },
     "execution_count": 108,
     "metadata": {},
     "output_type": "execute_result"
    }
   ],
   "source": [
    "read('/data/tmp.n5/test/c0/s0')[:].max()"
   ]
  },
  {
   "cell_type": "code",
   "execution_count": 109,
   "metadata": {},
   "outputs": [
    {
     "data": {
      "text/plain": [
       "<napari.viewer.Viewer at 0x7fa110523e90>"
      ]
     },
     "execution_count": 109,
     "metadata": {},
     "output_type": "execute_result"
    }
   ],
   "source": [
    "napari.view_image(read('/data/tmp.n5/test/c0/s0'))"
   ]
  },
  {
   "cell_type": "code",
   "execution_count": 127,
   "metadata": {},
   "outputs": [],
   "source": [
    "import dask.array as da\n",
    "dat = da.from_array(read('/groups/cosem/cosem/data/HeLa_Cell2_4x4x4nm/HeLa_Cell2_4x4x4nm_raw.n5/volumes/raw/ch0'))"
   ]
  },
  {
   "cell_type": "code",
   "execution_count": 130,
   "metadata": {},
   "outputs": [],
   "source": [
    "tmp = dat[:1000,:1000,:1000].compute()"
   ]
  },
  {
   "cell_type": "code",
   "execution_count": 131,
   "metadata": {},
   "outputs": [
    {
     "data": {
      "text/plain": [
       "<napari.viewer.Viewer at 0x7fa0f7cdfd50>"
      ]
     },
     "execution_count": 131,
     "metadata": {},
     "output_type": "execute_result"
    }
   ],
   "source": [
    "napari.view_image(tmp)"
   ]
  },
  {
   "cell_type": "code",
   "execution_count": null,
   "metadata": {},
   "outputs": [],
   "source": []
  }
 ],
 "metadata": {
  "kernelspec": {
   "display_name": "Python 3",
   "language": "python",
   "name": "python3"
  },
  "language_info": {
   "codemirror_mode": {
    "name": "ipython",
    "version": 3
   },
   "file_extension": ".py",
   "mimetype": "text/x-python",
   "name": "python",
   "nbconvert_exporter": "python",
   "pygments_lexer": "ipython3",
   "version": "3.7.5"
  }
 },
 "nbformat": 4,
 "nbformat_minor": 4
}
