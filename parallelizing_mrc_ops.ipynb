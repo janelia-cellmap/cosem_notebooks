{
 "cells": [
  {
   "cell_type": "code",
   "execution_count": null,
   "metadata": {},
   "outputs": [],
   "source": [
    "import dask.array as da\n",
    "import numpy as np\n",
    "import dask\n",
    "from dask import delayed\n",
    "from toolz import partition\n",
    "from tqdm import tqdm\n",
    "dask.config.set({'distributed.comm.timeouts.connect':'160s'})"
   ]
  },
  {
   "cell_type": "code",
   "execution_count": 2,
   "metadata": {},
   "outputs": [],
   "source": [
    "source_file = '/groups/hess/hesslab/HighResPaper_rawdata/9. TCell_on_cancer_4x4x4nm/TCell_on_cancer_Atlas1_4x4x4nm.mrc'"
   ]
  },
  {
   "cell_type": "code",
   "execution_count": 3,
   "metadata": {},
   "outputs": [],
   "source": [
    "def minmax(sl):\n",
    "    fname = source_file\n",
    "    from mrcfile.mrcmemmap import MrcMemmap\n",
    "    arr = MrcMemmap(fname).data[sl]\n",
    "    return arr.min(), arr.max()\n",
    "\n",
    "def mrc_to_dask(fname, stride):\n",
    "    from mrcfile.mrcmemmap import MrcMemmap\n",
    "    from itertools import product\n",
    "    with MrcMemmap(fname) as mem:\n",
    "        shape = mem.data.shape\n",
    "        dtype = mem.data.dtype\n",
    "        if mem.data.flags['C_CONTIGUOUS']:\n",
    "            chunks = (stride, -1,-1)\n",
    "            concat_axis = 0\n",
    "        elif mem.data.flags['F_CONTIGUOUS']:\n",
    "            chunks = (-1,-1, stride)\n",
    "            concat_axis = len(shape) - 1\n",
    "        else:\n",
    "            raise ValueError('Could not infer whether array is C or F contiguous')\n",
    "    template = da.zeros(shape=shape, dtype=dtype, chunks=chunks)    \n",
    "    slices = da.core.slices_from_chunks(template.chunks)\n",
    "    shapes = list(product(*template.chunks))\n",
    "    @delayed\n",
    "    def loader(sl): \n",
    "        import mrcfile.mrcmemmap as mm\n",
    "        import numpy as np\n",
    "        with mm.MrcMemmap(fname) as mrc:\n",
    "            result = np.array(mrc.data[sl])\n",
    "        return result\n",
    "    \n",
    "    arr = da.concatenate([da.from_delayed(loader(sl), shape=shapes[idx], dtype=dtype) for idx,sl in enumerate(slices)], axis=concat_axis)\n",
    "    return arr"
   ]
  },
  {
   "cell_type": "code",
   "execution_count": 4,
   "metadata": {},
   "outputs": [],
   "source": [
    "sample = mrc_to_dask(source_file, 10)"
   ]
  },
  {
   "cell_type": "code",
   "execution_count": 5,
   "metadata": {},
   "outputs": [
    {
     "data": {
      "text/html": [
       "<table style=\"border: 2px solid white;\">\n",
       "<tr>\n",
       "<td style=\"vertical-align: top; border: 0px solid white\">\n",
       "<h3 style=\"text-align: left;\">Client</h3>\n",
       "<ul style=\"text-align: left; list-style: none; margin: 0; padding: 0;\">\n",
       "  <li><b>Scheduler: </b>tcp://10.36.110.11:15222</li>\n",
       "  <li><b>Dashboard: </b><a href='http://10.36.110.11:8787/status' target='_blank'>http://10.36.110.11:8787/status</a>\n",
       "</ul>\n",
       "</td>\n",
       "<td style=\"vertical-align: top; border: 0px solid white\">\n",
       "<h3 style=\"text-align: left;\">Cluster</h3>\n",
       "<ul style=\"text-align: left; list-style:none; margin: 0; padding: 0;\">\n",
       "  <li><b>Workers: </b>0</li>\n",
       "  <li><b>Cores: </b>0</li>\n",
       "  <li><b>Memory: </b>0 B</li>\n",
       "</ul>\n",
       "</td>\n",
       "</tr>\n",
       "</table>"
      ],
      "text/plain": [
       "<Client: 'tcp://10.36.110.11:15222' processes=0 threads=0, memory=0 B>"
      ]
     },
     "execution_count": 5,
     "metadata": {},
     "output_type": "execute_result"
    }
   ],
   "source": [
    "from fst.distributed import get_cluster\n",
    "cl = get_cluster(walltime=\"300\")\n",
    "cl"
   ]
  },
  {
   "cell_type": "code",
   "execution_count": 7,
   "metadata": {},
   "outputs": [
    {
     "name": "stdout",
     "output_type": "stream",
     "text": [
      "CPU times: user 32.4 s, sys: 1.67 s, total: 34 s\n",
      "Wall time: 3min 27s\n"
     ]
    }
   ],
   "source": [
    "%%time\n",
    "cl.cluster.scale(60)\n",
    "result = cl.gather(cl.compute([sample.min(), sample.max()]))\n",
    "cl.cluster.scale(0)"
   ]
  },
  {
   "cell_type": "code",
   "execution_count": 20,
   "metadata": {},
   "outputs": [
    {
     "name": "stdout",
     "output_type": "stream",
     "text": [
      "CPU times: user 16.4 s, sys: 1.22 s, total: 17.6 s\n",
      "Wall time: 1min 59s\n"
     ]
    }
   ],
   "source": [
    "%%time\n",
    "cl.cluster.scale(60)\n",
    "result = sample.map_blocks(lambda v: np.expand_dims(np.array([v.min(), v.max()]), (0,1))).compute(scheduler=cl)\n",
    "cl.cluster.scale(0)"
   ]
  }
 ],
 "metadata": {
  "kernelspec": {
   "display_name": "Python 3",
   "language": "python",
   "name": "python3"
  },
  "language_info": {
   "codemirror_mode": {
    "name": "ipython",
    "version": 3
   },
   "file_extension": ".py",
   "mimetype": "text/x-python",
   "name": "python",
   "nbconvert_exporter": "python",
   "pygments_lexer": "ipython3",
   "version": "3.8.1"
  }
 },
 "nbformat": 4,
 "nbformat_minor": 4
}
