{
 "cells": [
  {
   "cell_type": "markdown",
   "metadata": {},
   "source": [
    "# Parallel bucket upload"
   ]
  },
  {
   "cell_type": "code",
   "execution_count": 10,
   "metadata": {},
   "outputs": [],
   "source": [
    "from dask.diagnostics import ProgressBar\n",
    "from pathlib import Path\n",
    "from dask import bag\n",
    "pbar = ProgressBar()\n",
    "pbar.register()\n",
    "\n",
    "def iterput(*args):\n",
    "    import s3fs\n",
    "    role = \"COSEMPDSAdmin\"\n",
    "    fs = s3fs.S3FileSystem(profile=role)\n",
    "    for arg in args:\n",
    "        #print(f'put {arg[0]} to {arg[1]}')\n",
    "        fs.put(*arg)\n",
    "    return True\n",
    "        "
   ]
  },
  {
   "cell_type": "code",
   "execution_count": 19,
   "metadata": {},
   "outputs": [
    {
     "name": "stdout",
     "output_type": "stream",
     "text": [
      "hela2\t   HeLa_b.n5  Jurkat.n5      Pancreas_islets.n5\n",
      "hela_a.n5  HeLa_c.n5  macrophage.n5  SUM159.n5\n"
     ]
    }
   ],
   "source": [
    "!ls /nrs/cosem/davis/s3_testing/"
   ]
  },
  {
   "cell_type": "code",
   "execution_count": 29,
   "metadata": {},
   "outputs": [],
   "source": [
    "bucket = 'janelia-cosem-dev'\n",
    "source_path = Path('/nrs/cosem/davis/s3_testing/Macrophage.n5/')\n",
    "target_path = Path(bucket) / source_path.stem / source_path.parts[-1]"
   ]
  },
  {
   "cell_type": "code",
   "execution_count": 30,
   "metadata": {},
   "outputs": [],
   "source": [
    "all_files = list(filter(lambda v: not v.is_dir(), source_path.rglob('*')))\n",
    "all_object_names = [target_path / f.relative_to(source_path) for f in all_files]"
   ]
  },
  {
   "cell_type": "code",
   "execution_count": 31,
   "metadata": {},
   "outputs": [],
   "source": [
    "tmp = bag.from_sequence(zip(all_files, all_object_names), npartitions=5000)"
   ]
  },
  {
   "cell_type": "code",
   "execution_count": 32,
   "metadata": {},
   "outputs": [
    {
     "name": "stdout",
     "output_type": "stream",
     "text": [
      "[########################################] | 100% Completed | 13min 43.9s\n",
      "[########################################] | 100% Completed | 13min 44.0s\n"
     ]
    }
   ],
   "source": [
    "# default multiprocessing scheduler gets the best results\n",
    "with pbar:\n",
    "    tmp.map_partitions(lambda v: iterput(*v)).compute()"
   ]
  },
  {
   "cell_type": "code",
   "execution_count": 6,
   "metadata": {},
   "outputs": [],
   "source": [
    "import s3fs\n",
    "fs = s3fs.S3FileSystem(profile='COSEMPDSAdmin')\n",
    "fs.rm('janelia-cosem-dev/HeLa_c/README.md')\n"
   ]
  },
  {
   "cell_type": "code",
   "execution_count": 1,
   "metadata": {},
   "outputs": [],
   "source": [
    "# upload readme file to bucket\n",
    "import s3fs\n",
    "role = \"COSEMPDSAdmin\"\n",
    "fs = s3fs.S3FileSystem(profile=role)\n",
    "fs.put('/groups/scicompsoft/home/bennettd/dev/aws-opendata/cosem-introduction.md', 'janelia-cosem/README.md')"
   ]
  },
  {
   "cell_type": "markdown",
   "metadata": {},
   "source": [
    "# Experimenting with parallelized recursive glob on s3 "
   ]
  },
  {
   "cell_type": "code",
   "execution_count": 1,
   "metadata": {},
   "outputs": [],
   "source": [
    "bucket = 'janelia-cosem-dev'\n",
    "source = 'janelia-cosem-dev/HeLa_b.n5/attributes.json'\n",
    "target = 'HeLa_b/HeLa_b.n5/attributes.json'"
   ]
  },
  {
   "cell_type": "code",
   "execution_count": 2,
   "metadata": {},
   "outputs": [],
   "source": [
    "from s3fs import S3FileSystem\n",
    "fs = S3FileSystem(profile='COSEMPDSAdmin')\n"
   ]
  },
  {
   "cell_type": "code",
   "execution_count": 4,
   "metadata": {},
   "outputs": [],
   "source": [
    "def s3glob(paths, detail=True):\n",
    "    from s3fs import S3FileSystem\n",
    "    fs = S3FileSystem(profile='COSEMPDSAdmin')\n",
    "    if isinstance(paths, str):\n",
    "        result = fs.glob(paths, detail=detail)\n",
    "    else:\n",
    "        result = []\n",
    "        for p in paths:\n",
    "            result.extend(fs.glob(p, detail=detail))\n",
    "    return result"
   ]
  },
  {
   "cell_type": "code",
   "execution_count": 6,
   "metadata": {},
   "outputs": [],
   "source": [
    "root_contents = s3glob('janelia-cosem-dev/*.n5/*/*[a-z/]*/*', detail=True)\n",
    "from pathlib import Path\n",
    "discard, keep = [],[]\n",
    "root_paths = tuple(root_contents.keys())\n",
    "for ind, val in enumerate(root_paths[:-1]):\n",
    "    # discard directories that have been globbed out already\n",
    "    if Path(val).parts != Path(root_paths[ind+1]).parts[:-1]:\n",
    "        keep.append(val)\n",
    "    else:\n",
    "        discard.append(val)"
   ]
  },
  {
   "cell_type": "code",
   "execution_count": 13,
   "metadata": {},
   "outputs": [],
   "source": [
    "from dask.diagnostics import ProgressBar\n",
    "pbar = ProgressBar()\n",
    "pbar.register()"
   ]
  },
  {
   "cell_type": "code",
   "execution_count": 14,
   "metadata": {},
   "outputs": [],
   "source": [
    "import dask.bag as bag"
   ]
  },
  {
   "cell_type": "code",
   "execution_count": 15,
   "metadata": {},
   "outputs": [],
   "source": [
    "bg = bag.from_sequence([pth + '**' for pth in keep if root_contents[pth]['type']=='directory'], npartitions=50)"
   ]
  },
  {
   "cell_type": "code",
   "execution_count": 24,
   "metadata": {},
   "outputs": [
    {
     "name": "stdout",
     "output_type": "stream",
     "text": [
      "[########################################] | 100% Completed |  2min 37.7s\n"
     ]
    }
   ],
   "source": [
    "with pbar:\n",
    "    result = bg.map_partitions(s3glob).compute(scheduler='threads')"
   ]
  },
  {
   "cell_type": "code",
   "execution_count": 26,
   "metadata": {},
   "outputs": [
    {
     "data": {
      "text/plain": [
       "dask.bag<from_sequence, npartitions=50>"
      ]
     },
     "execution_count": 26,
     "metadata": {},
     "output_type": "execute_result"
    }
   ],
   "source": [
    "bag.from_sequence([pth + '**' for pth in keep[:10] if root_contents[pth]['type']=='directory'])"
   ]
  },
  {
   "cell_type": "code",
   "execution_count": null,
   "metadata": {},
   "outputs": [],
   "source": []
  }
 ],
 "metadata": {
  "kernelspec": {
   "display_name": "Python 3",
   "language": "python",
   "name": "python3"
  },
  "language_info": {
   "codemirror_mode": {
    "name": "ipython",
    "version": 3
   },
   "file_extension": ".py",
   "mimetype": "text/x-python",
   "name": "python",
   "nbconvert_exporter": "python",
   "pygments_lexer": "ipython3",
   "version": "3.8.2"
  }
 },
 "nbformat": 4,
 "nbformat_minor": 4
}
